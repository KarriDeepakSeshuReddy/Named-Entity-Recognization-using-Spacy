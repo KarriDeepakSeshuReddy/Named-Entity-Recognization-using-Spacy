{
  "nbformat": 4,
  "nbformat_minor": 0,
  "metadata": {
    "colab": {
      "provenance": []
    },
    "kernelspec": {
      "name": "python3",
      "display_name": "Python 3"
    },
    "language_info": {
      "name": "python"
    }
  },
  "cells": [
    {
      "cell_type": "code",
      "execution_count": 1,
      "metadata": {
        "id": "ZzaFmsd8Cj-e"
      },
      "outputs": [],
      "source": [
        "import spacy"
      ]
    },
    {
      "cell_type": "code",
      "source": [
        "!python -m spacy download en_core_web_lg"
      ],
      "metadata": {
        "colab": {
          "base_uri": "https://localhost:8080/"
        },
        "id": "yqCehKuiCvXT",
        "outputId": "44d01c96-9cb3-4813-cb7b-731afcb82a7e"
      },
      "execution_count": 2,
      "outputs": [
        {
          "output_type": "stream",
          "name": "stdout",
          "text": [
            "Collecting en-core-web-lg==3.7.1\n",
            "  Downloading https://github.com/explosion/spacy-models/releases/download/en_core_web_lg-3.7.1/en_core_web_lg-3.7.1-py3-none-any.whl (587.7 MB)\n",
            "\u001b[2K     \u001b[90m━━━━━━━━━━━━━━━━━━━━━━━━━━━━━━━━━━━━━━━━\u001b[0m \u001b[32m587.7/587.7 MB\u001b[0m \u001b[31m3.0 MB/s\u001b[0m eta \u001b[36m0:00:00\u001b[0m\n",
            "\u001b[?25hRequirement already satisfied: spacy<3.8.0,>=3.7.2 in /usr/local/lib/python3.11/dist-packages (from en-core-web-lg==3.7.1) (3.7.5)\n",
            "Requirement already satisfied: spacy-legacy<3.1.0,>=3.0.11 in /usr/local/lib/python3.11/dist-packages (from spacy<3.8.0,>=3.7.2->en-core-web-lg==3.7.1) (3.0.12)\n",
            "Requirement already satisfied: spacy-loggers<2.0.0,>=1.0.0 in /usr/local/lib/python3.11/dist-packages (from spacy<3.8.0,>=3.7.2->en-core-web-lg==3.7.1) (1.0.5)\n",
            "Requirement already satisfied: murmurhash<1.1.0,>=0.28.0 in /usr/local/lib/python3.11/dist-packages (from spacy<3.8.0,>=3.7.2->en-core-web-lg==3.7.1) (1.0.12)\n",
            "Requirement already satisfied: cymem<2.1.0,>=2.0.2 in /usr/local/lib/python3.11/dist-packages (from spacy<3.8.0,>=3.7.2->en-core-web-lg==3.7.1) (2.0.11)\n",
            "Requirement already satisfied: preshed<3.1.0,>=3.0.2 in /usr/local/lib/python3.11/dist-packages (from spacy<3.8.0,>=3.7.2->en-core-web-lg==3.7.1) (3.0.9)\n",
            "Requirement already satisfied: thinc<8.3.0,>=8.2.2 in /usr/local/lib/python3.11/dist-packages (from spacy<3.8.0,>=3.7.2->en-core-web-lg==3.7.1) (8.2.5)\n",
            "Requirement already satisfied: wasabi<1.2.0,>=0.9.1 in /usr/local/lib/python3.11/dist-packages (from spacy<3.8.0,>=3.7.2->en-core-web-lg==3.7.1) (1.1.3)\n",
            "Requirement already satisfied: srsly<3.0.0,>=2.4.3 in /usr/local/lib/python3.11/dist-packages (from spacy<3.8.0,>=3.7.2->en-core-web-lg==3.7.1) (2.5.1)\n",
            "Requirement already satisfied: catalogue<2.1.0,>=2.0.6 in /usr/local/lib/python3.11/dist-packages (from spacy<3.8.0,>=3.7.2->en-core-web-lg==3.7.1) (2.0.10)\n",
            "Requirement already satisfied: weasel<0.5.0,>=0.1.0 in /usr/local/lib/python3.11/dist-packages (from spacy<3.8.0,>=3.7.2->en-core-web-lg==3.7.1) (0.4.1)\n",
            "Requirement already satisfied: typer<1.0.0,>=0.3.0 in /usr/local/lib/python3.11/dist-packages (from spacy<3.8.0,>=3.7.2->en-core-web-lg==3.7.1) (0.15.1)\n",
            "Requirement already satisfied: tqdm<5.0.0,>=4.38.0 in /usr/local/lib/python3.11/dist-packages (from spacy<3.8.0,>=3.7.2->en-core-web-lg==3.7.1) (4.67.1)\n",
            "Requirement already satisfied: requests<3.0.0,>=2.13.0 in /usr/local/lib/python3.11/dist-packages (from spacy<3.8.0,>=3.7.2->en-core-web-lg==3.7.1) (2.32.3)\n",
            "Requirement already satisfied: pydantic!=1.8,!=1.8.1,<3.0.0,>=1.7.4 in /usr/local/lib/python3.11/dist-packages (from spacy<3.8.0,>=3.7.2->en-core-web-lg==3.7.1) (2.10.6)\n",
            "Requirement already satisfied: jinja2 in /usr/local/lib/python3.11/dist-packages (from spacy<3.8.0,>=3.7.2->en-core-web-lg==3.7.1) (3.1.5)\n",
            "Requirement already satisfied: setuptools in /usr/local/lib/python3.11/dist-packages (from spacy<3.8.0,>=3.7.2->en-core-web-lg==3.7.1) (75.1.0)\n",
            "Requirement already satisfied: packaging>=20.0 in /usr/local/lib/python3.11/dist-packages (from spacy<3.8.0,>=3.7.2->en-core-web-lg==3.7.1) (24.2)\n",
            "Requirement already satisfied: langcodes<4.0.0,>=3.2.0 in /usr/local/lib/python3.11/dist-packages (from spacy<3.8.0,>=3.7.2->en-core-web-lg==3.7.1) (3.5.0)\n",
            "Requirement already satisfied: numpy>=1.19.0 in /usr/local/lib/python3.11/dist-packages (from spacy<3.8.0,>=3.7.2->en-core-web-lg==3.7.1) (1.26.4)\n",
            "Requirement already satisfied: language-data>=1.2 in /usr/local/lib/python3.11/dist-packages (from langcodes<4.0.0,>=3.2.0->spacy<3.8.0,>=3.7.2->en-core-web-lg==3.7.1) (1.3.0)\n",
            "Requirement already satisfied: annotated-types>=0.6.0 in /usr/local/lib/python3.11/dist-packages (from pydantic!=1.8,!=1.8.1,<3.0.0,>=1.7.4->spacy<3.8.0,>=3.7.2->en-core-web-lg==3.7.1) (0.7.0)\n",
            "Requirement already satisfied: pydantic-core==2.27.2 in /usr/local/lib/python3.11/dist-packages (from pydantic!=1.8,!=1.8.1,<3.0.0,>=1.7.4->spacy<3.8.0,>=3.7.2->en-core-web-lg==3.7.1) (2.27.2)\n",
            "Requirement already satisfied: typing-extensions>=4.12.2 in /usr/local/lib/python3.11/dist-packages (from pydantic!=1.8,!=1.8.1,<3.0.0,>=1.7.4->spacy<3.8.0,>=3.7.2->en-core-web-lg==3.7.1) (4.12.2)\n",
            "Requirement already satisfied: charset-normalizer<4,>=2 in /usr/local/lib/python3.11/dist-packages (from requests<3.0.0,>=2.13.0->spacy<3.8.0,>=3.7.2->en-core-web-lg==3.7.1) (3.4.1)\n",
            "Requirement already satisfied: idna<4,>=2.5 in /usr/local/lib/python3.11/dist-packages (from requests<3.0.0,>=2.13.0->spacy<3.8.0,>=3.7.2->en-core-web-lg==3.7.1) (3.10)\n",
            "Requirement already satisfied: urllib3<3,>=1.21.1 in /usr/local/lib/python3.11/dist-packages (from requests<3.0.0,>=2.13.0->spacy<3.8.0,>=3.7.2->en-core-web-lg==3.7.1) (2.3.0)\n",
            "Requirement already satisfied: certifi>=2017.4.17 in /usr/local/lib/python3.11/dist-packages (from requests<3.0.0,>=2.13.0->spacy<3.8.0,>=3.7.2->en-core-web-lg==3.7.1) (2025.1.31)\n",
            "Requirement already satisfied: blis<0.8.0,>=0.7.8 in /usr/local/lib/python3.11/dist-packages (from thinc<8.3.0,>=8.2.2->spacy<3.8.0,>=3.7.2->en-core-web-lg==3.7.1) (0.7.11)\n",
            "Requirement already satisfied: confection<1.0.0,>=0.0.1 in /usr/local/lib/python3.11/dist-packages (from thinc<8.3.0,>=8.2.2->spacy<3.8.0,>=3.7.2->en-core-web-lg==3.7.1) (0.1.5)\n",
            "Requirement already satisfied: click>=8.0.0 in /usr/local/lib/python3.11/dist-packages (from typer<1.0.0,>=0.3.0->spacy<3.8.0,>=3.7.2->en-core-web-lg==3.7.1) (8.1.8)\n",
            "Requirement already satisfied: shellingham>=1.3.0 in /usr/local/lib/python3.11/dist-packages (from typer<1.0.0,>=0.3.0->spacy<3.8.0,>=3.7.2->en-core-web-lg==3.7.1) (1.5.4)\n",
            "Requirement already satisfied: rich>=10.11.0 in /usr/local/lib/python3.11/dist-packages (from typer<1.0.0,>=0.3.0->spacy<3.8.0,>=3.7.2->en-core-web-lg==3.7.1) (13.9.4)\n",
            "Requirement already satisfied: cloudpathlib<1.0.0,>=0.7.0 in /usr/local/lib/python3.11/dist-packages (from weasel<0.5.0,>=0.1.0->spacy<3.8.0,>=3.7.2->en-core-web-lg==3.7.1) (0.20.0)\n",
            "Requirement already satisfied: smart-open<8.0.0,>=5.2.1 in /usr/local/lib/python3.11/dist-packages (from weasel<0.5.0,>=0.1.0->spacy<3.8.0,>=3.7.2->en-core-web-lg==3.7.1) (7.1.0)\n",
            "Requirement already satisfied: MarkupSafe>=2.0 in /usr/local/lib/python3.11/dist-packages (from jinja2->spacy<3.8.0,>=3.7.2->en-core-web-lg==3.7.1) (3.0.2)\n",
            "Requirement already satisfied: marisa-trie>=1.1.0 in /usr/local/lib/python3.11/dist-packages (from language-data>=1.2->langcodes<4.0.0,>=3.2.0->spacy<3.8.0,>=3.7.2->en-core-web-lg==3.7.1) (1.2.1)\n",
            "Requirement already satisfied: markdown-it-py>=2.2.0 in /usr/local/lib/python3.11/dist-packages (from rich>=10.11.0->typer<1.0.0,>=0.3.0->spacy<3.8.0,>=3.7.2->en-core-web-lg==3.7.1) (3.0.0)\n",
            "Requirement already satisfied: pygments<3.0.0,>=2.13.0 in /usr/local/lib/python3.11/dist-packages (from rich>=10.11.0->typer<1.0.0,>=0.3.0->spacy<3.8.0,>=3.7.2->en-core-web-lg==3.7.1) (2.18.0)\n",
            "Requirement already satisfied: wrapt in /usr/local/lib/python3.11/dist-packages (from smart-open<8.0.0,>=5.2.1->weasel<0.5.0,>=0.1.0->spacy<3.8.0,>=3.7.2->en-core-web-lg==3.7.1) (1.17.2)\n",
            "Requirement already satisfied: mdurl~=0.1 in /usr/local/lib/python3.11/dist-packages (from markdown-it-py>=2.2.0->rich>=10.11.0->typer<1.0.0,>=0.3.0->spacy<3.8.0,>=3.7.2->en-core-web-lg==3.7.1) (0.1.2)\n",
            "Installing collected packages: en-core-web-lg\n",
            "Successfully installed en-core-web-lg-3.7.1\n",
            "\u001b[38;5;2m✔ Download and installation successful\u001b[0m\n",
            "You can now load the package via spacy.load('en_core_web_lg')\n",
            "\u001b[38;5;3m⚠ Restart to reload dependencies\u001b[0m\n",
            "If you are in a Jupyter or Colab notebook, you may need to restart Python in\n",
            "order to load all the package's dependencies. You can do this by selecting the\n",
            "'Restart kernel' or 'Restart runtime' option.\n"
          ]
        }
      ]
    },
    {
      "cell_type": "code",
      "source": [
        "nlp = spacy.load(\"en_core_web_lg\")\n",
        "nlp"
      ],
      "metadata": {
        "colab": {
          "base_uri": "https://localhost:8080/"
        },
        "id": "GqsQbym0Cvc2",
        "outputId": "4a7027f3-7963-4301-9e0a-e828e5f9a639"
      },
      "execution_count": 3,
      "outputs": [
        {
          "output_type": "execute_result",
          "data": {
            "text/plain": [
              "<spacy.lang.en.English at 0x7bd8d55cebd0>"
            ]
          },
          "metadata": {},
          "execution_count": 3
        }
      ]
    },
    {
      "cell_type": "code",
      "source": [
        "doc = nlp(\"Elon Musk is the CEO of Tesla and SpaceX\")"
      ],
      "metadata": {
        "id": "JHLX-iSkCvfv"
      },
      "execution_count": 4,
      "outputs": []
    },
    {
      "cell_type": "code",
      "source": [
        "doc"
      ],
      "metadata": {
        "colab": {
          "base_uri": "https://localhost:8080/"
        },
        "id": "s8VslfaGCvi8",
        "outputId": "7c4a252a-e622-4391-800f-438ea47c2185"
      },
      "execution_count": 5,
      "outputs": [
        {
          "output_type": "execute_result",
          "data": {
            "text/plain": [
              "Elon Musk is the CEO of Tesla and SpaceX"
            ]
          },
          "metadata": {},
          "execution_count": 5
        }
      ]
    },
    {
      "cell_type": "code",
      "source": [
        "type(doc)"
      ],
      "metadata": {
        "colab": {
          "base_uri": "https://localhost:8080/"
        },
        "id": "gFg0b2O-Cvlr",
        "outputId": "81aad676-fe65-4e81-f360-64779ce438f8"
      },
      "execution_count": 6,
      "outputs": [
        {
          "output_type": "execute_result",
          "data": {
            "text/plain": [
              "spacy.tokens.doc.Doc"
            ]
          },
          "metadata": {},
          "execution_count": 6
        }
      ]
    },
    {
      "cell_type": "code",
      "source": [
        "doc.ents"
      ],
      "metadata": {
        "colab": {
          "base_uri": "https://localhost:8080/"
        },
        "id": "6hQ86j8oCvox",
        "outputId": "6e9907f1-20e6-45e8-96d3-4177b90f958f"
      },
      "execution_count": 7,
      "outputs": [
        {
          "output_type": "execute_result",
          "data": {
            "text/plain": [
              "(Elon Musk, Tesla, SpaceX)"
            ]
          },
          "metadata": {},
          "execution_count": 7
        }
      ]
    },
    {
      "cell_type": "code",
      "source": [
        "doc.ents[0], type(doc.ents[0])"
      ],
      "metadata": {
        "colab": {
          "base_uri": "https://localhost:8080/"
        },
        "id": "1KveLAUFCvro",
        "outputId": "5886a946-b979-4cb4-bd79-bf02032afefb"
      },
      "execution_count": 8,
      "outputs": [
        {
          "output_type": "execute_result",
          "data": {
            "text/plain": [
              "(Elon Musk, spacy.tokens.span.Span)"
            ]
          },
          "metadata": {},
          "execution_count": 8
        }
      ]
    },
    {
      "cell_type": "code",
      "source": [
        "from spacy import displacy\n",
        "displacy.render(doc, style=\"ent\", jupyter=True)"
      ],
      "metadata": {
        "colab": {
          "base_uri": "https://localhost:8080/",
          "height": 52
        },
        "id": "xtaXKJaPCvuv",
        "outputId": "cffa4958-ea9b-45e6-8f7d-ad973258ec96"
      },
      "execution_count": 9,
      "outputs": [
        {
          "output_type": "display_data",
          "data": {
            "text/plain": [
              "<IPython.core.display.HTML object>"
            ],
            "text/html": [
              "<span class=\"tex2jax_ignore\"><div class=\"entities\" style=\"line-height: 2.5; direction: ltr\">\n",
              "<mark class=\"entity\" style=\"background: #aa9cfc; padding: 0.45em 0.6em; margin: 0 0.25em; line-height: 1; border-radius: 0.35em;\">\n",
              "    Elon Musk\n",
              "    <span style=\"font-size: 0.8em; font-weight: bold; line-height: 1; border-radius: 0.35em; vertical-align: middle; margin-left: 0.5rem\">PERSON</span>\n",
              "</mark>\n",
              " is the CEO of \n",
              "<mark class=\"entity\" style=\"background: #7aecec; padding: 0.45em 0.6em; margin: 0 0.25em; line-height: 1; border-radius: 0.35em;\">\n",
              "    Tesla\n",
              "    <span style=\"font-size: 0.8em; font-weight: bold; line-height: 1; border-radius: 0.35em; vertical-align: middle; margin-left: 0.5rem\">ORG</span>\n",
              "</mark>\n",
              " and \n",
              "<mark class=\"entity\" style=\"background: #7aecec; padding: 0.45em 0.6em; margin: 0 0.25em; line-height: 1; border-radius: 0.35em;\">\n",
              "    SpaceX\n",
              "    <span style=\"font-size: 0.8em; font-weight: bold; line-height: 1; border-radius: 0.35em; vertical-align: middle; margin-left: 0.5rem\">ORG</span>\n",
              "</mark>\n",
              "</div></span>"
            ]
          },
          "metadata": {}
        }
      ]
    },
    {
      "cell_type": "code",
      "source": [
        "import json\n",
        "with open('/content/Corona2.json', 'r') as f:\n",
        "    data = json.load(f)"
      ],
      "metadata": {
        "id": "V_2bzAxzCvx2"
      },
      "execution_count": 10,
      "outputs": []
    },
    {
      "cell_type": "code",
      "source": [
        "data['examples'][0]"
      ],
      "metadata": {
        "colab": {
          "base_uri": "https://localhost:8080/"
        },
        "id": "XmjVLGhDCv00",
        "outputId": "8b1f4040-ad60-4efb-b0eb-b2bc77cefb44"
      },
      "execution_count": 11,
      "outputs": [
        {
          "output_type": "execute_result",
          "data": {
            "text/plain": [
              "{'id': '18c2f619-f102-452f-ab81-d26f7e283ffe',\n",
              " 'content': \"While bismuth compounds (Pepto-Bismol) decreased the number of bowel movements in those with travelers' diarrhea, they do not decrease the length of illness.[91] Anti-motility agents like loperamide are also effective at reducing the number of stools but not the duration of disease.[8] These agents should be used only if bloody diarrhea is not present.[92]\\n\\nDiosmectite, a natural aluminomagnesium silicate clay, is effective in alleviating symptoms of acute diarrhea in children,[93] and also has some effects in chronic functional diarrhea, radiation-induced diarrhea, and chemotherapy-induced diarrhea.[45] Another absorbent agent used for the treatment of mild diarrhea is kaopectate.\\n\\nRacecadotril an antisecretory medication may be used to treat diarrhea in children and adults.[86] It has better tolerability than loperamide, as it causes less constipation and flatulence.[94]\",\n",
              " 'metadata': {},\n",
              " 'annotations': [{'id': '0825a1bf-6a6e-4fa2-be77-8d104701eaed',\n",
              "   'tag_id': 'c06bd022-6ded-44a5-8d90-f17685bb85a1',\n",
              "   'end': 371,\n",
              "   'start': 360,\n",
              "   'example_id': '18c2f619-f102-452f-ab81-d26f7e283ffe',\n",
              "   'tag_name': 'Medicine',\n",
              "   'value': 'Diosmectite',\n",
              "   'correct': None,\n",
              "   'human_annotations': [{'timestamp': '2020-03-21T00:24:32.098000Z',\n",
              "     'annotator_id': 1,\n",
              "     'tagged_token_id': '0825a1bf-6a6e-4fa2-be77-8d104701eaed',\n",
              "     'name': 'Ashpat123',\n",
              "     'reason': 'exploration'}],\n",
              "   'model_annotations': []},\n",
              "  {'id': '145f62b1-bbf5-42f1-8ad5-9c7e08337bf0',\n",
              "   'tag_id': 'c06bd022-6ded-44a5-8d90-f17685bb85a1',\n",
              "   'end': 408,\n",
              "   'start': 383,\n",
              "   'example_id': '18c2f619-f102-452f-ab81-d26f7e283ffe',\n",
              "   'tag_name': 'Medicine',\n",
              "   'value': 'aluminomagnesium silicate',\n",
              "   'correct': None,\n",
              "   'human_annotations': [{'timestamp': '2020-03-21T00:24:43.692000Z',\n",
              "     'annotator_id': 1,\n",
              "     'tagged_token_id': '145f62b1-bbf5-42f1-8ad5-9c7e08337bf0',\n",
              "     'name': 'Ashpat123',\n",
              "     'reason': 'exploration'}],\n",
              "   'model_annotations': []},\n",
              "  {'id': '243efeb2-723f-4be4-933c-fbbf7e0f9903',\n",
              "   'tag_id': '03eb3e50-d4d8-4261-a60b-fa5aee5deb4a',\n",
              "   'end': 112,\n",
              "   'start': 104,\n",
              "   'example_id': '18c2f619-f102-452f-ab81-d26f7e283ffe',\n",
              "   'tag_name': 'MedicalCondition',\n",
              "   'value': 'diarrhea',\n",
              "   'correct': None,\n",
              "   'human_annotations': [{'timestamp': '2020-03-21T00:24:09.423000Z',\n",
              "     'annotator_id': 1,\n",
              "     'tagged_token_id': '243efeb2-723f-4be4-933c-fbbf7e0f9903',\n",
              "     'name': 'Ashpat123',\n",
              "     'reason': 'exploration'}],\n",
              "   'model_annotations': []},\n",
              "  {'id': '281f49d3-879a-4409-b09e-4cfae019af16',\n",
              "   'tag_id': 'c06bd022-6ded-44a5-8d90-f17685bb85a1',\n",
              "   'end': 689,\n",
              "   'start': 679,\n",
              "   'example_id': '18c2f619-f102-452f-ab81-d26f7e283ffe',\n",
              "   'tag_name': 'Medicine',\n",
              "   'value': 'kaopectate',\n",
              "   'correct': None,\n",
              "   'human_annotations': [{'timestamp': '2020-03-21T00:25:38.366000Z',\n",
              "     'annotator_id': 1,\n",
              "     'tagged_token_id': '281f49d3-879a-4409-b09e-4cfae019af16',\n",
              "     'name': 'Ashpat123',\n",
              "     'reason': 'exploration'}],\n",
              "   'model_annotations': []},\n",
              "  {'id': '32fdf9e7-63f7-442a-8e25-f08ea4ad94d5',\n",
              "   'tag_id': 'c06bd022-6ded-44a5-8d90-f17685bb85a1',\n",
              "   'end': 23,\n",
              "   'start': 6,\n",
              "   'example_id': '18c2f619-f102-452f-ab81-d26f7e283ffe',\n",
              "   'tag_name': 'Medicine',\n",
              "   'value': 'bismuth compounds',\n",
              "   'correct': None,\n",
              "   'human_annotations': [{'timestamp': '2020-03-21T00:23:46.721000Z',\n",
              "     'annotator_id': 1,\n",
              "     'tagged_token_id': '32fdf9e7-63f7-442a-8e25-f08ea4ad94d5',\n",
              "     'name': 'Ashpat123',\n",
              "     'reason': 'exploration'}],\n",
              "   'model_annotations': []},\n",
              "  {'id': '392094d2-febf-4074-a2ca-4c0082f4e5b8',\n",
              "   'tag_id': 'c06bd022-6ded-44a5-8d90-f17685bb85a1',\n",
              "   'end': 37,\n",
              "   'start': 25,\n",
              "   'example_id': '18c2f619-f102-452f-ab81-d26f7e283ffe',\n",
              "   'tag_name': 'Medicine',\n",
              "   'value': 'Pepto-Bismol',\n",
              "   'correct': None,\n",
              "   'human_annotations': [{'timestamp': '2020-03-21T00:23:58.861000Z',\n",
              "     'annotator_id': 1,\n",
              "     'tagged_token_id': '392094d2-febf-4074-a2ca-4c0082f4e5b8',\n",
              "     'name': 'Ashpat123',\n",
              "     'reason': 'exploration'}],\n",
              "   'model_annotations': []},\n",
              "  {'id': '450b8c30-cf2e-4774-96d9-58b4160bea38',\n",
              "   'tag_id': '03eb3e50-d4d8-4261-a60b-fa5aee5deb4a',\n",
              "   'end': 470,\n",
              "   'start': 461,\n",
              "   'example_id': '18c2f619-f102-452f-ab81-d26f7e283ffe',\n",
              "   'tag_name': 'MedicalCondition',\n",
              "   'value': 'diarrhea ',\n",
              "   'correct': None,\n",
              "   'human_annotations': [],\n",
              "   'model_annotations': []},\n",
              "  {'id': '6b73f683-7130-4e16-bcc2-e3cc8cf89f4d',\n",
              "   'tag_id': 'c06bd022-6ded-44a5-8d90-f17685bb85a1',\n",
              "   'end': 589,\n",
              "   'start': 577,\n",
              "   'example_id': '18c2f619-f102-452f-ab81-d26f7e283ffe',\n",
              "   'tag_name': 'Medicine',\n",
              "   'value': 'chemotherapy',\n",
              "   'correct': None,\n",
              "   'human_annotations': [{'timestamp': '2020-03-21T00:25:24.179000Z',\n",
              "     'annotator_id': 1,\n",
              "     'tagged_token_id': '6b73f683-7130-4e16-bcc2-e3cc8cf89f4d',\n",
              "     'name': 'Ashpat123',\n",
              "     'reason': 'exploration'}],\n",
              "   'model_annotations': []},\n",
              "  {'id': '74574b7f-d535-48e1-8651-2708adcfe453',\n",
              "   'tag_id': '03eb3e50-d4d8-4261-a60b-fa5aee5deb4a',\n",
              "   'end': 865,\n",
              "   'start': 853,\n",
              "   'example_id': '18c2f619-f102-452f-ab81-d26f7e283ffe',\n",
              "   'tag_name': 'MedicalCondition',\n",
              "   'value': 'constipation',\n",
              "   'correct': None,\n",
              "   'human_annotations': [{'timestamp': '2020-03-21T00:26:31.676000Z',\n",
              "     'annotator_id': 1,\n",
              "     'tagged_token_id': '74574b7f-d535-48e1-8651-2708adcfe453',\n",
              "     'name': 'Ashpat123',\n",
              "     'reason': 'exploration'}],\n",
              "   'model_annotations': []},\n",
              "  {'id': '7572ab8e-ae99-400c-b4ab-ed46fbc9f97e',\n",
              "   'tag_id': 'c06bd022-6ded-44a5-8d90-f17685bb85a1',\n",
              "   'end': 198,\n",
              "   'start': 188,\n",
              "   'example_id': '18c2f619-f102-452f-ab81-d26f7e283ffe',\n",
              "   'tag_name': 'Medicine',\n",
              "   'value': 'loperamide',\n",
              "   'correct': None,\n",
              "   'human_annotations': [{'timestamp': '2020-03-21T00:24:17.680000Z',\n",
              "     'annotator_id': 1,\n",
              "     'tagged_token_id': '7572ab8e-ae99-400c-b4ab-ed46fbc9f97e',\n",
              "     'name': 'Ashpat123',\n",
              "     'reason': 'exploration'}],\n",
              "   'model_annotations': []},\n",
              "  {'id': '800e6c6c-0bfb-4819-a25a-34f759753457',\n",
              "   'tag_id': '03eb3e50-d4d8-4261-a60b-fa5aee5deb4a',\n",
              "   'end': 762,\n",
              "   'start': 754,\n",
              "   'example_id': '18c2f619-f102-452f-ab81-d26f7e283ffe',\n",
              "   'tag_name': 'MedicalCondition',\n",
              "   'value': 'diarrhea',\n",
              "   'correct': None,\n",
              "   'human_annotations': [{'timestamp': '2020-03-21T00:26:07.368000Z',\n",
              "     'annotator_id': 1,\n",
              "     'tagged_token_id': '800e6c6c-0bfb-4819-a25a-34f759753457',\n",
              "     'name': 'Ashpat123',\n",
              "     'reason': 'exploration'}],\n",
              "   'model_annotations': []},\n",
              "  {'id': '8214556a-7584-4d9b-86cd-5e09137ad904',\n",
              "   'tag_id': '03eb3e50-d4d8-4261-a60b-fa5aee5deb4a',\n",
              "   'end': 880,\n",
              "   'start': 870,\n",
              "   'example_id': '18c2f619-f102-452f-ab81-d26f7e283ffe',\n",
              "   'tag_name': 'MedicalCondition',\n",
              "   'value': 'flatulence',\n",
              "   'correct': None,\n",
              "   'human_annotations': [{'timestamp': '2020-03-21T00:26:41.322000Z',\n",
              "     'annotator_id': 1,\n",
              "     'tagged_token_id': '8214556a-7584-4d9b-86cd-5e09137ad904',\n",
              "     'name': 'Ashpat123',\n",
              "     'reason': 'exploration'}],\n",
              "   'model_annotations': []},\n",
              "  {'id': '98968e14-6756-4174-9d3d-7abd58b3aa34',\n",
              "   'tag_id': 'c06bd022-6ded-44a5-8d90-f17685bb85a1',\n",
              "   'end': 833,\n",
              "   'start': 823,\n",
              "   'example_id': '18c2f619-f102-452f-ab81-d26f7e283ffe',\n",
              "   'tag_name': 'Medicine',\n",
              "   'value': 'loperamide',\n",
              "   'correct': None,\n",
              "   'human_annotations': [{'timestamp': '2020-03-21T00:26:12.759000Z',\n",
              "     'annotator_id': 1,\n",
              "     'tagged_token_id': '98968e14-6756-4174-9d3d-7abd58b3aa34',\n",
              "     'name': 'Ashpat123',\n",
              "     'reason': 'exploration'}],\n",
              "   'model_annotations': []},\n",
              "  {'id': 'a0a03c7b-cfad-41ee-9f5c-f8a802475994',\n",
              "   'tag_id': '03eb3e50-d4d8-4261-a60b-fa5aee5deb4a',\n",
              "   'end': 853,\n",
              "   'start': 852,\n",
              "   'example_id': '18c2f619-f102-452f-ab81-d26f7e283ffe',\n",
              "   'tag_name': 'MedicalCondition',\n",
              "   'value': ' ',\n",
              "   'correct': None,\n",
              "   'human_annotations': [],\n",
              "   'model_annotations': []},\n",
              "  {'id': 'bfbddfd4-38aa-43a7-9366-24c95829ac8c',\n",
              "   'tag_id': '03eb3e50-d4d8-4261-a60b-fa5aee5deb4a',\n",
              "   'end': 469,\n",
              "   'start': 461,\n",
              "   'example_id': '18c2f619-f102-452f-ab81-d26f7e283ffe',\n",
              "   'tag_name': 'MedicalCondition',\n",
              "   'value': 'diarrhea',\n",
              "   'correct': None,\n",
              "   'human_annotations': [{'timestamp': '2020-03-21T00:25:06.921000Z',\n",
              "     'annotator_id': 1,\n",
              "     'tagged_token_id': 'bfbddfd4-38aa-43a7-9366-24c95829ac8c',\n",
              "     'name': 'Ashpat123',\n",
              "     'reason': 'exploration'}],\n",
              "   'model_annotations': []},\n",
              "  {'id': 'd7d68c18-0d8e-4547-a2fa-81fdcaf3080e',\n",
              "   'tag_id': '03eb3e50-d4d8-4261-a60b-fa5aee5deb4a',\n",
              "   'end': 543,\n",
              "   'start': 535,\n",
              "   'example_id': '18c2f619-f102-452f-ab81-d26f7e283ffe',\n",
              "   'tag_name': 'MedicalCondition',\n",
              "   'value': 'diarrhea',\n",
              "   'correct': None,\n",
              "   'human_annotations': [{'timestamp': '2020-03-21T00:25:12.203000Z',\n",
              "     'annotator_id': 1,\n",
              "     'tagged_token_id': 'd7d68c18-0d8e-4547-a2fa-81fdcaf3080e',\n",
              "     'name': 'Ashpat123',\n",
              "     'reason': 'exploration'}],\n",
              "   'model_annotations': []},\n",
              "  {'id': 'ee956220-42a4-4a91-b9f0-75019c4f5dd9',\n",
              "   'tag_id': 'c06bd022-6ded-44a5-8d90-f17685bb85a1',\n",
              "   'end': 704,\n",
              "   'start': 692,\n",
              "   'example_id': '18c2f619-f102-452f-ab81-d26f7e283ffe',\n",
              "   'tag_name': 'Medicine',\n",
              "   'value': 'Racecadotril',\n",
              "   'correct': None,\n",
              "   'human_annotations': [{'timestamp': '2020-03-21T00:25:56.503000Z',\n",
              "     'annotator_id': 1,\n",
              "     'tagged_token_id': 'ee956220-42a4-4a91-b9f0-75019c4f5dd9',\n",
              "     'name': 'Ashpat123',\n",
              "     'reason': 'exploration'}],\n",
              "   'model_annotations': []},\n",
              "  {'id': 'f04a6b7e-8904-405c-9301-e4543238b7a5',\n",
              "   'tag_id': '03eb3e50-d4d8-4261-a60b-fa5aee5deb4a',\n",
              "   'end': 571,\n",
              "   'start': 563,\n",
              "   'example_id': '18c2f619-f102-452f-ab81-d26f7e283ffe',\n",
              "   'tag_name': 'MedicalCondition',\n",
              "   'value': 'diarrhea',\n",
              "   'correct': None,\n",
              "   'human_annotations': [{'timestamp': '2020-03-21T00:25:18.043000Z',\n",
              "     'annotator_id': 1,\n",
              "     'tagged_token_id': 'f04a6b7e-8904-405c-9301-e4543238b7a5',\n",
              "     'name': 'Ashpat123',\n",
              "     'reason': 'exploration'}],\n",
              "   'model_annotations': []}],\n",
              " 'classifications': []}"
            ]
          },
          "metadata": {},
          "execution_count": 11
        }
      ]
    },
    {
      "cell_type": "code",
      "source": [
        "data['examples'][0].keys()"
      ],
      "metadata": {
        "colab": {
          "base_uri": "https://localhost:8080/"
        },
        "id": "QAvzO7abCv4E",
        "outputId": "8c1c9994-8392-42dc-ab03-7d5026c99f69"
      },
      "execution_count": 12,
      "outputs": [
        {
          "output_type": "execute_result",
          "data": {
            "text/plain": [
              "dict_keys(['id', 'content', 'metadata', 'annotations', 'classifications'])"
            ]
          },
          "metadata": {},
          "execution_count": 12
        }
      ]
    },
    {
      "cell_type": "code",
      "source": [
        "data['examples'][0]['content']"
      ],
      "metadata": {
        "colab": {
          "base_uri": "https://localhost:8080/",
          "height": 160
        },
        "id": "DF_42hYBCv66",
        "outputId": "c398f0df-1490-47d7-90c9-864fa8d5f6ca"
      },
      "execution_count": 13,
      "outputs": [
        {
          "output_type": "execute_result",
          "data": {
            "text/plain": [
              "\"While bismuth compounds (Pepto-Bismol) decreased the number of bowel movements in those with travelers' diarrhea, they do not decrease the length of illness.[91] Anti-motility agents like loperamide are also effective at reducing the number of stools but not the duration of disease.[8] These agents should be used only if bloody diarrhea is not present.[92]\\n\\nDiosmectite, a natural aluminomagnesium silicate clay, is effective in alleviating symptoms of acute diarrhea in children,[93] and also has some effects in chronic functional diarrhea, radiation-induced diarrhea, and chemotherapy-induced diarrhea.[45] Another absorbent agent used for the treatment of mild diarrhea is kaopectate.\\n\\nRacecadotril an antisecretory medication may be used to treat diarrhea in children and adults.[86] It has better tolerability than loperamide, as it causes less constipation and flatulence.[94]\""
            ],
            "application/vnd.google.colaboratory.intrinsic+json": {
              "type": "string"
            }
          },
          "metadata": {},
          "execution_count": 13
        }
      ]
    },
    {
      "cell_type": "code",
      "source": [
        "data['examples'][0]['annotations'][0]"
      ],
      "metadata": {
        "colab": {
          "base_uri": "https://localhost:8080/"
        },
        "id": "qOZ7Ql_kCv-P",
        "outputId": "1aac6abe-9613-4b10-d794-7a4cd95ba1a4"
      },
      "execution_count": 14,
      "outputs": [
        {
          "output_type": "execute_result",
          "data": {
            "text/plain": [
              "{'id': '0825a1bf-6a6e-4fa2-be77-8d104701eaed',\n",
              " 'tag_id': 'c06bd022-6ded-44a5-8d90-f17685bb85a1',\n",
              " 'end': 371,\n",
              " 'start': 360,\n",
              " 'example_id': '18c2f619-f102-452f-ab81-d26f7e283ffe',\n",
              " 'tag_name': 'Medicine',\n",
              " 'value': 'Diosmectite',\n",
              " 'correct': None,\n",
              " 'human_annotations': [{'timestamp': '2020-03-21T00:24:32.098000Z',\n",
              "   'annotator_id': 1,\n",
              "   'tagged_token_id': '0825a1bf-6a6e-4fa2-be77-8d104701eaed',\n",
              "   'name': 'Ashpat123',\n",
              "   'reason': 'exploration'}],\n",
              " 'model_annotations': []}"
            ]
          },
          "metadata": {},
          "execution_count": 14
        }
      ]
    },
    {
      "cell_type": "code",
      "source": [
        "training_data = []\n",
        "for example in data['examples']:\n",
        "  temp_dict = {}\n",
        "  temp_dict['text'] = example['content']\n",
        "  temp_dict['entities'] = []\n",
        "  for annotation in example['annotations']:\n",
        "    start = annotation['start']\n",
        "    end = annotation['end']\n",
        "    label = annotation['tag_name'].upper()\n",
        "    temp_dict['entities'].append((start, end, label))\n",
        "  training_data.append(temp_dict)\n",
        "\n",
        "print(training_data[0])"
      ],
      "metadata": {
        "colab": {
          "base_uri": "https://localhost:8080/"
        },
        "id": "KNhuJGYBCwBW",
        "outputId": "dff800af-2910-4fe8-fb3e-d8773e9ee944"
      },
      "execution_count": 15,
      "outputs": [
        {
          "output_type": "stream",
          "name": "stdout",
          "text": [
            "{'text': \"While bismuth compounds (Pepto-Bismol) decreased the number of bowel movements in those with travelers' diarrhea, they do not decrease the length of illness.[91] Anti-motility agents like loperamide are also effective at reducing the number of stools but not the duration of disease.[8] These agents should be used only if bloody diarrhea is not present.[92]\\n\\nDiosmectite, a natural aluminomagnesium silicate clay, is effective in alleviating symptoms of acute diarrhea in children,[93] and also has some effects in chronic functional diarrhea, radiation-induced diarrhea, and chemotherapy-induced diarrhea.[45] Another absorbent agent used for the treatment of mild diarrhea is kaopectate.\\n\\nRacecadotril an antisecretory medication may be used to treat diarrhea in children and adults.[86] It has better tolerability than loperamide, as it causes less constipation and flatulence.[94]\", 'entities': [(360, 371, 'MEDICINE'), (383, 408, 'MEDICINE'), (104, 112, 'MEDICALCONDITION'), (679, 689, 'MEDICINE'), (6, 23, 'MEDICINE'), (25, 37, 'MEDICINE'), (461, 470, 'MEDICALCONDITION'), (577, 589, 'MEDICINE'), (853, 865, 'MEDICALCONDITION'), (188, 198, 'MEDICINE'), (754, 762, 'MEDICALCONDITION'), (870, 880, 'MEDICALCONDITION'), (823, 833, 'MEDICINE'), (852, 853, 'MEDICALCONDITION'), (461, 469, 'MEDICALCONDITION'), (535, 543, 'MEDICALCONDITION'), (692, 704, 'MEDICINE'), (563, 571, 'MEDICALCONDITION')]}\n"
          ]
        }
      ]
    },
    {
      "cell_type": "code",
      "source": [
        "training_data[0]['text']"
      ],
      "metadata": {
        "colab": {
          "base_uri": "https://localhost:8080/",
          "height": 160
        },
        "id": "xrjViVQDDoMx",
        "outputId": "33687c2f-ec83-4743-bdfa-f9986cb343ed"
      },
      "execution_count": 16,
      "outputs": [
        {
          "output_type": "execute_result",
          "data": {
            "text/plain": [
              "\"While bismuth compounds (Pepto-Bismol) decreased the number of bowel movements in those with travelers' diarrhea, they do not decrease the length of illness.[91] Anti-motility agents like loperamide are also effective at reducing the number of stools but not the duration of disease.[8] These agents should be used only if bloody diarrhea is not present.[92]\\n\\nDiosmectite, a natural aluminomagnesium silicate clay, is effective in alleviating symptoms of acute diarrhea in children,[93] and also has some effects in chronic functional diarrhea, radiation-induced diarrhea, and chemotherapy-induced diarrhea.[45] Another absorbent agent used for the treatment of mild diarrhea is kaopectate.\\n\\nRacecadotril an antisecretory medication may be used to treat diarrhea in children and adults.[86] It has better tolerability than loperamide, as it causes less constipation and flatulence.[94]\""
            ],
            "application/vnd.google.colaboratory.intrinsic+json": {
              "type": "string"
            }
          },
          "metadata": {},
          "execution_count": 16
        }
      ]
    },
    {
      "cell_type": "code",
      "source": [
        "training_data[0]['entities']"
      ],
      "metadata": {
        "colab": {
          "base_uri": "https://localhost:8080/"
        },
        "id": "OZbtlz6XDobF",
        "outputId": "9fbf5404-413e-4fc4-97cb-94639c8b2da0"
      },
      "execution_count": 17,
      "outputs": [
        {
          "output_type": "execute_result",
          "data": {
            "text/plain": [
              "[(360, 371, 'MEDICINE'),\n",
              " (383, 408, 'MEDICINE'),\n",
              " (104, 112, 'MEDICALCONDITION'),\n",
              " (679, 689, 'MEDICINE'),\n",
              " (6, 23, 'MEDICINE'),\n",
              " (25, 37, 'MEDICINE'),\n",
              " (461, 470, 'MEDICALCONDITION'),\n",
              " (577, 589, 'MEDICINE'),\n",
              " (853, 865, 'MEDICALCONDITION'),\n",
              " (188, 198, 'MEDICINE'),\n",
              " (754, 762, 'MEDICALCONDITION'),\n",
              " (870, 880, 'MEDICALCONDITION'),\n",
              " (823, 833, 'MEDICINE'),\n",
              " (852, 853, 'MEDICALCONDITION'),\n",
              " (461, 469, 'MEDICALCONDITION'),\n",
              " (535, 543, 'MEDICALCONDITION'),\n",
              " (692, 704, 'MEDICINE'),\n",
              " (563, 571, 'MEDICALCONDITION')]"
            ]
          },
          "metadata": {},
          "execution_count": 17
        }
      ]
    },
    {
      "cell_type": "code",
      "source": [
        "training_data[0]['text'][360:371]"
      ],
      "metadata": {
        "colab": {
          "base_uri": "https://localhost:8080/",
          "height": 35
        },
        "id": "otdcZtzHDojG",
        "outputId": "89cbd458-1ac7-45d0-e519-4abde0b0c0ee"
      },
      "execution_count": 18,
      "outputs": [
        {
          "output_type": "execute_result",
          "data": {
            "text/plain": [
              "'Diosmectite'"
            ],
            "application/vnd.google.colaboratory.intrinsic+json": {
              "type": "string"
            }
          },
          "metadata": {},
          "execution_count": 18
        }
      ]
    },
    {
      "cell_type": "code",
      "source": [
        "from spacy.tokens import DocBin\n",
        "from tqdm import tqdm\n",
        "\n",
        "nlp = spacy.blank(\"en\") # load a new spacy model\n",
        "doc_bin = DocBin()"
      ],
      "metadata": {
        "id": "q3mnbMguDyGc"
      },
      "execution_count": 19,
      "outputs": []
    },
    {
      "cell_type": "code",
      "source": [
        "from spacy.util import filter_spans\n",
        "\n",
        "for training_example  in tqdm(training_data):\n",
        "    text = training_example['text']\n",
        "    labels = training_example['entities']\n",
        "    doc = nlp.make_doc(text)\n",
        "    ents = []\n",
        "    for start, end, label in labels:\n",
        "        span = doc.char_span(start, end, label=label, alignment_mode=\"contract\")\n",
        "        if span is None:\n",
        "            print(\"Skipping entity\")\n",
        "        else:\n",
        "            ents.append(span)\n",
        "    filtered_ents = filter_spans(ents)\n",
        "    doc.ents = filtered_ents\n",
        "    doc_bin.add(doc)\n",
        "\n",
        "doc_bin.to_disk(\"train.spacy\")"
      ],
      "metadata": {
        "colab": {
          "base_uri": "https://localhost:8080/"
        },
        "id": "wN3qHnOeD1tT",
        "outputId": "54b9a1cf-d6a8-46d2-d6a5-dc9636b32262"
      },
      "execution_count": 20,
      "outputs": [
        {
          "output_type": "stream",
          "name": "stderr",
          "text": [
            "100%|██████████| 31/31 [00:00<00:00, 358.52it/s]"
          ]
        },
        {
          "output_type": "stream",
          "name": "stdout",
          "text": [
            "Skipping entity\n",
            "Skipping entity\n",
            "Skipping entity\n",
            "Skipping entity\n",
            "Skipping entity\n",
            "Skipping entity\n",
            "Skipping entity\n",
            "Skipping entity\n",
            "Skipping entity\n",
            "Skipping entity\n",
            "Skipping entity\n",
            "Skipping entity\n",
            "Skipping entity\n",
            "Skipping entity\n",
            "Skipping entity\n",
            "Skipping entity\n"
          ]
        },
        {
          "output_type": "stream",
          "name": "stderr",
          "text": [
            "\n"
          ]
        }
      ]
    },
    {
      "cell_type": "code",
      "source": [
        "!python -m spacy init fill-config base_config.cfg config.cfg"
      ],
      "metadata": {
        "colab": {
          "base_uri": "https://localhost:8080/"
        },
        "id": "wBGgodDQEP-E",
        "outputId": "897994d2-c456-4ef1-9ef9-a376b67a332b"
      },
      "execution_count": 22,
      "outputs": [
        {
          "output_type": "stream",
          "name": "stdout",
          "text": [
            "\u001b[38;5;2m✔ Auto-filled config with all values\u001b[0m\n",
            "\u001b[38;5;2m✔ Saved config\u001b[0m\n",
            "config.cfg\n",
            "You can now add your data and train your pipeline:\n",
            "python -m spacy train config.cfg --paths.train ./train.spacy --paths.dev ./dev.spacy\n"
          ]
        }
      ]
    },
    {
      "cell_type": "markdown",
      "source": [
        "https://spacy.io/usage/training"
      ],
      "metadata": {
        "id": "ZlVDytoWMLYO"
      }
    },
    {
      "cell_type": "code",
      "source": [
        "!python -m spacy train config.cfg --output ./ --paths.train ./train.spacy --paths.dev ./train.spacy"
      ],
      "metadata": {
        "colab": {
          "base_uri": "https://localhost:8080/"
        },
        "id": "Lc_g7u-KEQMp",
        "outputId": "1c83cdef-4a37-4d04-c22b-0ea35d15a91c"
      },
      "execution_count": 23,
      "outputs": [
        {
          "output_type": "stream",
          "name": "stdout",
          "text": [
            "\u001b[38;5;4mℹ Saving to output directory: .\u001b[0m\n",
            "\u001b[38;5;4mℹ Using CPU\u001b[0m\n",
            "\u001b[1m\n",
            "=========================== Initializing pipeline ===========================\u001b[0m\n",
            "\u001b[38;5;2m✔ Initialized pipeline\u001b[0m\n",
            "\u001b[1m\n",
            "============================= Training pipeline =============================\u001b[0m\n",
            "\u001b[38;5;4mℹ Pipeline: ['tok2vec', 'ner']\u001b[0m\n",
            "\u001b[38;5;4mℹ Initial learn rate: 0.001\u001b[0m\n",
            "E    #       LOSS TOK2VEC  LOSS NER  ENTS_F  ENTS_P  ENTS_R  SCORE \n",
            "---  ------  ------------  --------  ------  ------  ------  ------\n",
            "  0       0          0.00     59.36    0.00    0.00    0.00    0.00\n",
            "  3     200        617.46   3079.72   77.39   75.37   79.53    0.77\n",
            "  7     400         68.87    962.26   91.12   89.39   92.91    0.91\n",
            "\u001b[38;5;2m✔ Saved pipeline to output directory\u001b[0m\n",
            "model-last\n"
          ]
        }
      ]
    },
    {
      "cell_type": "code",
      "source": [
        "nlp_ner = spacy.load(\"model-best\")"
      ],
      "metadata": {
        "id": "2GTsySiYGBF8"
      },
      "execution_count": 24,
      "outputs": []
    },
    {
      "cell_type": "code",
      "source": [
        "doc = nlp_ner(\"While bismuth compounds (Pepto-Bismol) decreased the number of bowel movements in those with travelers' diarrhea, they do not decrease the length of illness.[91] Anti-motility agents like loperamide are also effective at reducing the number of stools but not the duration of disease.[8] These agents should be used only if bloody diarrhea is not present.\")\n",
        "\n",
        "colors = {\"PATHOGEN\": \"#F67DE3\", \"MEDICINE\": \"#7DF6D9\", \"MEDICALCONDITION\":\"#a6e22d\"}\n",
        "options = {\"colors\": colors}\n",
        "\n",
        "spacy.displacy.render(doc, style=\"ent\", options= options, jupyter=True)"
      ],
      "metadata": {
        "colab": {
          "base_uri": "https://localhost:8080/",
          "height": 122
        },
        "id": "Ct_y5tU6GGSV",
        "outputId": "c24123d7-7178-4901-8989-3af76dbd0f38"
      },
      "execution_count": 25,
      "outputs": [
        {
          "output_type": "display_data",
          "data": {
            "text/plain": [
              "<IPython.core.display.HTML object>"
            ],
            "text/html": [
              "<span class=\"tex2jax_ignore\"><div class=\"entities\" style=\"line-height: 2.5; direction: ltr\">While \n",
              "<mark class=\"entity\" style=\"background: #7DF6D9; padding: 0.45em 0.6em; margin: 0 0.25em; line-height: 1; border-radius: 0.35em;\">\n",
              "    bismuth compounds\n",
              "    <span style=\"font-size: 0.8em; font-weight: bold; line-height: 1; border-radius: 0.35em; vertical-align: middle; margin-left: 0.5rem\">MEDICINE</span>\n",
              "</mark>\n",
              " (\n",
              "<mark class=\"entity\" style=\"background: #7DF6D9; padding: 0.45em 0.6em; margin: 0 0.25em; line-height: 1; border-radius: 0.35em;\">\n",
              "    Pepto-Bismol)\n",
              "    <span style=\"font-size: 0.8em; font-weight: bold; line-height: 1; border-radius: 0.35em; vertical-align: middle; margin-left: 0.5rem\">MEDICINE</span>\n",
              "</mark>\n",
              " decreased the number of bowel movements in those with travelers' \n",
              "<mark class=\"entity\" style=\"background: #a6e22d; padding: 0.45em 0.6em; margin: 0 0.25em; line-height: 1; border-radius: 0.35em;\">\n",
              "    diarrhea\n",
              "    <span style=\"font-size: 0.8em; font-weight: bold; line-height: 1; border-radius: 0.35em; vertical-align: middle; margin-left: 0.5rem\">MEDICALCONDITION</span>\n",
              "</mark>\n",
              ", they do not decrease the length of illness.[91] Anti-motility agents like \n",
              "<mark class=\"entity\" style=\"background: #7DF6D9; padding: 0.45em 0.6em; margin: 0 0.25em; line-height: 1; border-radius: 0.35em;\">\n",
              "    loperamide\n",
              "    <span style=\"font-size: 0.8em; font-weight: bold; line-height: 1; border-radius: 0.35em; vertical-align: middle; margin-left: 0.5rem\">MEDICINE</span>\n",
              "</mark>\n",
              " are also effective at reducing the number of stools but not the duration of disease.[8] These agents should be used only if bloody \n",
              "<mark class=\"entity\" style=\"background: #a6e22d; padding: 0.45em 0.6em; margin: 0 0.25em; line-height: 1; border-radius: 0.35em;\">\n",
              "    diarrhea\n",
              "    <span style=\"font-size: 0.8em; font-weight: bold; line-height: 1; border-radius: 0.35em; vertical-align: middle; margin-left: 0.5rem\">MEDICALCONDITION</span>\n",
              "</mark>\n",
              " is not present.</div></span>"
            ]
          },
          "metadata": {}
        }
      ]
    },
    {
      "cell_type": "code",
      "source": [
        "from spacy.scorer import Scorer\n",
        "from spacy.training import Example\n",
        "\n",
        "def evaluate_model(nlp, examples):\n",
        "    scorer = Scorer()\n",
        "    for example in examples:\n",
        "        doc = nlp(example['text'])\n",
        "        gold = Example.from_dict(doc, {\"entities\": example[\"entities\"]})\n",
        "        scorer.score([gold])\n",
        "    return scorer.score\n",
        "\n",
        "# Test on some examples\n",
        "test_data = [\n",
        "    {\"text\": \"Diosmectite is a great medicine.\", \"entities\": [(0, 11, \"MEDICINE\")]},\n",
        "    {\"text\": \"John was diagnosed with diabetes.\", \"entities\": [(24, 32, \"MEDICALCONDITION\")]}\n",
        "]\n",
        "\n",
        "results = evaluate_model(nlp_ner, test_data)\n",
        "print(results)\n"
      ],
      "metadata": {
        "colab": {
          "base_uri": "https://localhost:8080/"
        },
        "id": "c5P3mvFoHEc2",
        "outputId": "6134133c-6b83-45f6-8945-4ed6471a0f31"
      },
      "execution_count": 26,
      "outputs": [
        {
          "output_type": "stream",
          "name": "stdout",
          "text": [
            "<bound method Scorer.score of <spacy.scorer.Scorer object at 0x7bd8ce349210>>\n"
          ]
        }
      ]
    },
    {
      "cell_type": "code",
      "source": [
        "import matplotlib.pyplot as plt\n",
        "from collections import Counter\n",
        "\n",
        "# Count occurrences of each entity type\n",
        "entity_counts = Counter([ent.label_ for ent in doc.ents])\n",
        "\n",
        "# Plot bar chart\n",
        "plt.figure(figsize=(8, 5))\n",
        "plt.bar(entity_counts.keys(), entity_counts.values(), color='skyblue')\n",
        "plt.xlabel(\"Entity Type\")\n",
        "plt.ylabel(\"Count\")\n",
        "plt.title(\"Named Entity Recognition (NER) Counts\")\n",
        "plt.show()\n"
      ],
      "metadata": {
        "colab": {
          "base_uri": "https://localhost:8080/",
          "height": 487
        },
        "id": "aKX7iq_hI94E",
        "outputId": "e67ba78f-36ab-4714-d52d-882df6ad5d98"
      },
      "execution_count": 29,
      "outputs": [
        {
          "output_type": "display_data",
          "data": {
            "text/plain": [
              "<Figure size 800x500 with 1 Axes>"
            ],
            "image/png": "[encoded data removed]"
          },
          "metadata": {}
        }
      ]
    },
    {
      "cell_type": "code",
      "source": [
        "from wordcloud import WordCloud\n",
        "\n",
        "# Create a text string of all recognized entities\n",
        "entity_text = \" \".join([ent.text for ent in doc.ents])\n",
        "\n",
        "# Generate word cloud\n",
        "wordcloud = WordCloud(width=800, height=400, background_color=\"white\").generate(entity_text)\n",
        "\n",
        "# Display word cloud\n",
        "plt.figure(figsize=(10, 5))\n",
        "plt.imshow(wordcloud, interpolation=\"bilinear\")\n",
        "plt.axis(\"off\")\n",
        "plt.show()\n"
      ],
      "metadata": {
        "colab": {
          "base_uri": "https://localhost:8080/",
          "height": 422
        },
        "id": "YZuWAoqkJSyK",
        "outputId": "78e78133-1b47-4d3b-a052-300adb2dc69c"
      },
      "execution_count": 30,
      "outputs": [
        {
          "output_type": "display_data",
          "data": {
            "text/plain": [
              "<Figure size 1000x500 with 1 Axes>"
            ],
            "image/png": "[encoded data removed]"
          },
          "metadata": {}
        }
      ]
    }
  ]
}